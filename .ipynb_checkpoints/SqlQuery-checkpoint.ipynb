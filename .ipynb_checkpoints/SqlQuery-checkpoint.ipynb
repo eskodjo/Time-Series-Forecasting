{
 "cells": [
  {
   "cell_type": "code",
   "execution_count": 3,
   "id": "95e4a8be",
   "metadata": {},
   "outputs": [],
   "source": [
    "import mysql.connector\n",
    "\n",
    "connection = mysql.connector.connect(\n",
    "    user='root',\n",
    "    password='your password,\n",
    "    host='localhost',\n",
    "    database='database name',\n",
    "    #ssl_disable=True\n",
    ")\n",
    "cursor = connection.cursor()\n"
   ]
  },
  {
   "cell_type": "markdown",
   "id": "be9364c8",
   "metadata": {},
   "source": [
    "# Reading from a database"
   ]
  },
  {
   "cell_type": "code",
   "execution_count": 44,
   "id": "0a770110",
   "metadata": {},
   "outputs": [
    {
     "data": {
      "text/plain": [
       "True"
      ]
     },
     "execution_count": 44,
     "metadata": {},
     "output_type": "execute_result"
    }
   ],
   "source": [
    "query = '''\n",
    "    SELECT \n",
    "\tcustomer_id,\n",
    "    first_name,\n",
    "    points,\n",
    "\t'Bronze' AS type\n",
    "FROM customers \n",
    "WHERE points <= 2000\n",
    "UNION\n",
    "SELECT \n",
    "\tcustomer_id,\n",
    "    first_name,\n",
    "    points,\n",
    "\t'Silver' AS type\n",
    "FROM customers \n",
    "WHERE points BETWEEN 2000 AND 3000\n",
    "UNION\n",
    "SELECT \n",
    "\tcustomer_id,\n",
    "    first_name,\n",
    "    points,\n",
    "\t'GOLD' AS type\n",
    "FROM customers \n",
    "WHERE  points > 3000\n",
    "ORDER BY first_name\n",
    "'''\n",
    "cursor.execute(query)\n",
    "\n",
    "results = []\n",
    "for i, data in enumerate(cursor):\n",
    "    results.append(data)\n",
    "    \n",
    "connection.close()\n",
    "cursor.close()"
   ]
  },
  {
   "cell_type": "code",
   "execution_count": null,
   "id": "55953add",
   "metadata": {},
   "outputs": [],
   "source": []
  },
  {
   "cell_type": "code",
   "execution_count": 45,
   "id": "ebdf14ba",
   "metadata": {},
   "outputs": [],
   "source": [
    "import pandas as pd\n",
    "df_pulled = pd.DataFrame(results)\n",
    "df_pulled.columns = ['customer_id', 'first_name', 'points', 'type']\n"
   ]
  },
  {
   "cell_type": "code",
   "execution_count": 46,
   "id": "3aee9590",
   "metadata": {},
   "outputs": [
    {
     "data": {
      "text/html": [
       "<div>\n",
       "<style scoped>\n",
       "    .dataframe tbody tr th:only-of-type {\n",
       "        vertical-align: middle;\n",
       "    }\n",
       "\n",
       "    .dataframe tbody tr th {\n",
       "        vertical-align: top;\n",
       "    }\n",
       "\n",
       "    .dataframe thead th {\n",
       "        text-align: right;\n",
       "    }\n",
       "</style>\n",
       "<table border=\"1\" class=\"dataframe\">\n",
       "  <thead>\n",
       "    <tr style=\"text-align: right;\">\n",
       "      <th></th>\n",
       "      <th>customer_id</th>\n",
       "      <th>first_name</th>\n",
       "      <th>points</th>\n",
       "      <th>type</th>\n",
       "    </tr>\n",
       "  </thead>\n",
       "  <tbody>\n",
       "    <tr>\n",
       "      <th>0</th>\n",
       "      <td>4</td>\n",
       "      <td>Ambur</td>\n",
       "      <td>457</td>\n",
       "      <td>Bronze</td>\n",
       "    </tr>\n",
       "    <tr>\n",
       "      <th>1</th>\n",
       "      <td>1</td>\n",
       "      <td>Babara</td>\n",
       "      <td>2273</td>\n",
       "      <td>Silver</td>\n",
       "    </tr>\n",
       "    <tr>\n",
       "      <th>2</th>\n",
       "      <td>5</td>\n",
       "      <td>Clemmie</td>\n",
       "      <td>3675</td>\n",
       "      <td>GOLD</td>\n",
       "    </tr>\n",
       "    <tr>\n",
       "      <th>3</th>\n",
       "      <td>6</td>\n",
       "      <td>Elka</td>\n",
       "      <td>3073</td>\n",
       "      <td>GOLD</td>\n",
       "    </tr>\n",
       "    <tr>\n",
       "      <th>4</th>\n",
       "      <td>3</td>\n",
       "      <td>Freddi</td>\n",
       "      <td>2967</td>\n",
       "      <td>Silver</td>\n",
       "    </tr>\n",
       "    <tr>\n",
       "      <th>5</th>\n",
       "      <td>7</td>\n",
       "      <td>Ilene</td>\n",
       "      <td>1672</td>\n",
       "      <td>Bronze</td>\n",
       "    </tr>\n",
       "    <tr>\n",
       "      <th>6</th>\n",
       "      <td>2</td>\n",
       "      <td>Ines</td>\n",
       "      <td>947</td>\n",
       "      <td>Bronze</td>\n",
       "    </tr>\n",
       "    <tr>\n",
       "      <th>7</th>\n",
       "      <td>11</td>\n",
       "      <td>John</td>\n",
       "      <td>0</td>\n",
       "      <td>Bronze</td>\n",
       "    </tr>\n",
       "    <tr>\n",
       "      <th>8</th>\n",
       "      <td>10</td>\n",
       "      <td>Levy</td>\n",
       "      <td>796</td>\n",
       "      <td>Bronze</td>\n",
       "    </tr>\n",
       "    <tr>\n",
       "      <th>9</th>\n",
       "      <td>9</td>\n",
       "      <td>Romola</td>\n",
       "      <td>1486</td>\n",
       "      <td>Bronze</td>\n",
       "    </tr>\n",
       "    <tr>\n",
       "      <th>10</th>\n",
       "      <td>8</td>\n",
       "      <td>Thacher</td>\n",
       "      <td>205</td>\n",
       "      <td>Bronze</td>\n",
       "    </tr>\n",
       "  </tbody>\n",
       "</table>\n",
       "</div>"
      ],
      "text/plain": [
       "    customer_id first_name  points    type\n",
       "0             4      Ambur     457  Bronze\n",
       "1             1     Babara    2273  Silver\n",
       "2             5    Clemmie    3675    GOLD\n",
       "3             6       Elka    3073    GOLD\n",
       "4             3     Freddi    2967  Silver\n",
       "5             7      Ilene    1672  Bronze\n",
       "6             2       Ines     947  Bronze\n",
       "7            11       John       0  Bronze\n",
       "8            10       Levy     796  Bronze\n",
       "9             9     Romola    1486  Bronze\n",
       "10            8    Thacher     205  Bronze"
      ]
     },
     "execution_count": 46,
     "metadata": {},
     "output_type": "execute_result"
    }
   ],
   "source": [
    "df_pulled"
   ]
  },
  {
   "cell_type": "markdown",
   "id": "3aca424d",
   "metadata": {},
   "source": [
    "# Writing to a database"
   ]
  },
  {
   "cell_type": "code",
   "execution_count": 40,
   "id": "367739e8",
   "metadata": {},
   "outputs": [],
   "source": [
    "top_2_points = df_pulled.groupby(['customer_id', 'first_name', 'type'])['points'].max()"
   ]
  },
  {
   "cell_type": "code",
   "execution_count": 41,
   "id": "4863174f",
   "metadata": {},
   "outputs": [
    {
     "data": {
      "text/plain": [
       "customer_id  first_name  type  \n",
       "1            Babara      Silver    2273\n",
       "2            Ines        Bronze     947\n",
       "3            Freddi      Silver    2967\n",
       "4            Ambur       Bronze     457\n",
       "5            Clemmie     GOLD      3675\n",
       "6            Elka        GOLD      3073\n",
       "7            Ilene       Bronze    1672\n",
       "8            Thacher     Bronze     205\n",
       "9            Romola      Bronze    1486\n",
       "10           Levy        Bronze     796\n",
       "11           John        Bronze       0\n",
       "Name: points, dtype: int64"
      ]
     },
     "execution_count": 41,
     "metadata": {},
     "output_type": "execute_result"
    }
   ],
   "source": [
    "top_2_points"
   ]
  },
  {
   "cell_type": "code",
   "execution_count": 42,
   "id": "6f7d1837",
   "metadata": {},
   "outputs": [
    {
     "ename": "NameError",
     "evalue": "name 'engine' is not defined",
     "output_type": "error",
     "traceback": [
      "\u001b[0;31m---------------------------------------------------------------------------\u001b[0m",
      "\u001b[0;31mNameError\u001b[0m                                 Traceback (most recent call last)",
      "Cell \u001b[0;32mIn[42], line 1\u001b[0m\n\u001b[0;32m----> 1\u001b[0m top_2_points\u001b[38;5;241m.\u001b[39mto_sql(\u001b[38;5;124m'\u001b[39m\u001b[38;5;124mtop_2_points\u001b[39m\u001b[38;5;124m'\u001b[39m, engine)\n",
      "\u001b[0;31mNameError\u001b[0m: name 'engine' is not defined"
     ]
    }
   ],
   "source": [
    "top_2_points.to_sql('top_2_points', engine)"
   ]
  },
  {
   "cell_type": "code",
   "execution_count": null,
   "id": "71254b69",
   "metadata": {},
   "outputs": [],
   "source": []
  }
 ],
 "metadata": {
  "kernelspec": {
   "display_name": "Python 3 (ipykernel)",
   "language": "python",
   "name": "python3"
  },
  "language_info": {
   "codemirror_mode": {
    "name": "ipython",
    "version": 3
   },
   "file_extension": ".py",
   "mimetype": "text/x-python",
   "name": "python",
   "nbconvert_exporter": "python",
   "pygments_lexer": "ipython3",
   "version": "3.11.5"
  }
 },
 "nbformat": 4,
 "nbformat_minor": 5
}
